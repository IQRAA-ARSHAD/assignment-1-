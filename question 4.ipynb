{
 "cells": [
  {
   "cell_type": "markdown",
   "id": "2190aa2a",
   "metadata": {},
   "source": [
    "# secant method"
   ]
  },
  {
   "cell_type": "code",
   "execution_count": 4,
   "id": "41407a76",
   "metadata": {},
   "outputs": [
    {
     "name": "stdout",
     "output_type": "stream",
     "text": [
      "enter x1: -2\n",
      "enter x2: 2\n",
      "Root = 1.500000 at 8 iterations\n"
     ]
    }
   ],
   "source": [
    "from math import sin\n",
    "import numpy as np\n",
    "import matplotlib.pyplot as plt\n",
    "def secant(fn,x1,x2,tol,maxiter):   # defining function secant with 5 parameters function, x1 (lower bound),x2 (upper bound),tolerance , maxiter (iterations)   \n",
    "    for i in range(maxiter):      # loop repeat upto the value of maxiter \n",
    "        xnew  = x2 - (x2-x1)/(fn(x2)-fn(x1))*fn(x2)    # equation of secant method to find new root.\n",
    "        if abs(xnew-x2) < tol:        #convegence condition is met then stop the loop (therwise continue ) \n",
    "            break\n",
    "        else:              # abs(xnew-x2) > tol: then replace x1 with x2 and x2 with xnew to perform next iteration.\n",
    "            x1 = x2\n",
    "            x2 = xnew\n",
    "    else:\n",
    "        print('warning: Maximum number of iterations is reached')\n",
    "    return xnew, i\n",
    "\n",
    "f = lambda x:2*x**2-5*x+3          # defining function whozse root is to be calculated.\n",
    "\n",
    "x1 = float(input('enter x1: '))     #  1st initial guess \n",
    "x2 = float(input('enter x2: '))     # 2nd initial guess\n",
    "\n",
    "r, n = secant(f,x1,x2,1.0e-6,100)    # calling the main function and assign given values to main function ehere its calculate root by secant method.\n",
    "\n",
    "print('Root = %f at %d iterations'%(r,n))"
   ]
  },
  {
   "cell_type": "markdown",
   "id": "bca28604",
   "metadata": {},
   "source": [
    "# graph "
   ]
  },
  {
   "cell_type": "code",
   "execution_count": 5,
   "id": "6ceaf539",
   "metadata": {},
   "outputs": [
    {
     "data": {
      "text/plain": [
       "Text(0, 0.5, 'y_axis')"
      ]
     },
     "execution_count": 5,
     "metadata": {},
     "output_type": "execute_result"
    },
    {
     "data": {
      "image/png": "[encoded data removed]",
      "text/plain": [
       "<Figure size 432x288 with 1 Axes>"
      ]
     },
     "metadata": {
      "needs_background": "light"
     },
     "output_type": "display_data"
    }
   ],
   "source": [
    "x= np.linspace(-2,2,100)\n",
    "y = 2*x**2-5*x+3\n",
    "plt.plot(x,y)\n",
    "plt.grid()\n",
    "plt.xlabel('x_axis' ,fontsize =10)\n",
    "plt.ylabel('y_axis' ,fontsize =10)"
   ]
  },
  {
   "cell_type": "markdown",
   "id": "db99a19d",
   "metadata": {},
   "source": [
    "# bisection method "
   ]
  },
  {
   "cell_type": "code",
   "execution_count": 2,
   "id": "57b54ff5",
   "metadata": {},
   "outputs": [
    {
     "name": "stdout",
     "output_type": "stream",
     "text": [
      "first guess: 0\n",
      "second guess: 1\n",
      "tolerance: 0.001\n",
      "iteration 1, x2 = 0.500000 and f(x2)= 1.000000\n",
      "iteration 2, x2 = 0.750000 and f(x2)= 0.375000\n",
      "iteration 3, x2 = 0.875000 and f(x2)= 0.156250\n",
      "iteration 4, x2 = 0.937500 and f(x2)= 0.070312\n",
      "iteration 5, x2 = 0.968750 and f(x2)= 0.033203\n",
      "iteration 6, x2 = 0.984375 and f(x2)= 0.016113\n",
      "iteration 7, x2 = 0.992188 and f(x2)= 0.007935\n",
      "iteration 8, x2 = 0.996094 and f(x2)= 0.003937\n",
      "iteration 9, x2 = 0.998047 and f(x2)= 0.001961\n",
      "iteration 10, x2 = 0.999023 and f(x2)= 0.000978\n",
      "root is :0.99902344 \n"
     ]
    }
   ],
   "source": [
    "from math import sin\n",
    "import numpy as np\n",
    "import matplotlib.pyplot as plt\n",
    "def bisection(x0,x1,e):        # DEFINITION OF FUNCTION \"BISECTION\"\n",
    "    step = 1                   # NO OF ITERATION START FROM 1\n",
    "    condition = True    # condition is by default true so while loop will be executed.\n",
    "    while condition:\n",
    "        x2 = (x0+x1)/2         # FINDING MIDPOINT/ ROOT  .\n",
    "        print('iteration %d, x2 = %0.6f and f(x2)= %0.6f' %(step,x2,f(x2)))\n",
    "        \n",
    "        if f(x0) * f(x2) < 0:      #DECIDE THE LOWER AND UPPER BOUND TO CONTINUE THE STEP\n",
    "            x1 = x2\n",
    "        else:\n",
    "            x0 = x2\n",
    "        step = step +1            # INCREMENT THE NO OF ITERTAION BY 1\n",
    "        condition = abs(f(x2)) > e  # if abs value of root greater then stoping criteria \"e\" then continue step\n",
    "    print('root is :%0.8f '%x2)\n",
    "#    return x2\n",
    "\n",
    "def f(x):                      # \"def\" index for defining function (FUNCTION WHOSE ROOT IS TO BE CALCLUTED WITH A ERROR OF e)\n",
    "    return 2*x**2-5*x+3 \n",
    "\n",
    "x0 = float(input('first guess: '))               # LOWER BOUND OF INTERVAL WHOSE TYPE IS FLOAT IF INTEGER IT CONVERT ITS INTO FLOAT\n",
    "x1 = float(input('second guess: '))              # UPPER BOUND OF INTERVAL WHOSE TYPE IS FLOAT \n",
    "e  = float(input('tolerance: '))                 # DEFINING STOPING CRITERIA FOR THE PROGRAM WHICH IS EQUAL TO e\n",
    "\n",
    "if f(x0) * f(x1) > 0.0:\n",
    "    print('given guess values do not bracket the root') # IF \"IF\" CONDITION IS TRUE MEAN BOTH VALUES LOWER AND UPPER ARE EITHER POSITIVE OR NEGATIVE SO BY IMVT IT DOESNOT BRACKET ROOT so we needs another aproximate guess\n",
    "else:             # f(x0) * f(x1) < 0.0 then perform bisectio method.\n",
    "    root = bisection(x0,x1,e)    # CALLING FUNCTION BISECTION (WHERE DEFINTION OF BISECTION METHOD IS STORED) TO CALCULATE THE ROOT"
   ]
  },
  {
   "cell_type": "markdown",
   "id": "f5600301",
   "metadata": {},
   "source": [
    "# newton raphson method "
   ]
  },
  {
   "cell_type": "code",
   "execution_count": 3,
   "id": "7e005aba",
   "metadata": {},
   "outputs": [
    {
     "name": "stdout",
     "output_type": "stream",
     "text": [
      "the root is 1.000 at 5 iterations.\n"
     ]
    }
   ],
   "source": [
    "from math import sin\n",
    "from math import cos\n",
    "import numpy as np\n",
    "import matplotlib.pyplot as plt\n",
    "def newton(fn,dfn,x,tol,maxiter):    # defining a function whose name is newton with parameters fn(function),dfn(derivate of fn),x(initial guess), tol(tolerance), maxiter (maximum number of iteration).\n",
    "    for i in range(maxiter):    # loop repeat upto the value of maxiter \n",
    "        xnew = x - fn(x)/dfn(x)   # equation of newton raphson method to find new root.\n",
    "        if abs(xnew-x)<tol:        #convegence condition is met then stop the loop (therwise continue ) \n",
    "            break\n",
    "        x = xnew      # root is xnew if \"if\" condition is met in iteration \"i\".\n",
    "    return xnew, i\n",
    "\n",
    "y = lambda x: 2*x**2-5*x+3  # defining a function whose root is calculated\n",
    "dy = lambda x : 4*x-5     # derivative of function.\n",
    "\n",
    "x, n = newton(y, dy, 0, 0.0001, 100)    # calling definition of function where root is calculted by assign y to fn , dy to dfn , 5 to x , o.ooo1 to tol, 100 to maxiter.\n",
    "print('the root is %.3f at %d iterations.'%(x,n))"
   ]
  },
  {
   "cell_type": "markdown",
   "id": "8025504e",
   "metadata": {},
   "source": [
    "# false position method "
   ]
  },
  {
   "cell_type": "code",
   "execution_count": 6,
   "id": "4224d918",
   "metadata": {},
   "outputs": [
    {
     "name": "stdout",
     "output_type": "stream",
     "text": [
      "enter x1: -2\n",
      "enter x2: 2\n",
      "No roots exists within the given interval\n"
     ]
    },
    {
     "ename": "UnboundLocalError",
     "evalue": "local variable 'xh' referenced before assignment",
     "output_type": "error",
     "traceback": [
      "\u001b[1;31m---------------------------------------------------------------------------\u001b[0m",
      "\u001b[1;31mUnboundLocalError\u001b[0m                         Traceback (most recent call last)",
      "\u001b[1;32m~\\AppData\\Local\\Temp/ipykernel_2900/3942922730.py\u001b[0m in \u001b[0;36m<module>\u001b[1;34m\u001b[0m\n\u001b[0;32m     23\u001b[0m \u001b[0mx2\u001b[0m \u001b[1;33m=\u001b[0m \u001b[0mfloat\u001b[0m\u001b[1;33m(\u001b[0m\u001b[0minput\u001b[0m\u001b[1;33m(\u001b[0m\u001b[1;34m'enter x2: '\u001b[0m\u001b[1;33m)\u001b[0m\u001b[1;33m)\u001b[0m                \u001b[1;31m# initial guess (upper bound)\u001b[0m\u001b[1;33m\u001b[0m\u001b[1;33m\u001b[0m\u001b[0m\n\u001b[0;32m     24\u001b[0m \u001b[1;33m\u001b[0m\u001b[0m\n\u001b[1;32m---> 25\u001b[1;33m \u001b[0mr\u001b[0m\u001b[1;33m,\u001b[0m \u001b[0mn\u001b[0m \u001b[1;33m=\u001b[0m \u001b[0mreg_falsi\u001b[0m\u001b[1;33m(\u001b[0m\u001b[0my\u001b[0m\u001b[1;33m,\u001b[0m\u001b[0mx1\u001b[0m\u001b[1;33m,\u001b[0m\u001b[0mx2\u001b[0m\u001b[1;33m)\u001b[0m                  \u001b[1;31m# calling the main function and assign y (which is defined) , (x1 and x2(enter by user) to x1 and x2 in main funtion to calculate root.f\u001b[0m\u001b[1;33m\u001b[0m\u001b[1;33m\u001b[0m\u001b[0m\n\u001b[0m\u001b[0;32m     26\u001b[0m \u001b[0mprint\u001b[0m\u001b[1;33m(\u001b[0m\u001b[1;34m'The root = %f at %d iteration'\u001b[0m\u001b[1;33m%\u001b[0m\u001b[1;33m(\u001b[0m\u001b[0mr\u001b[0m\u001b[1;33m,\u001b[0m\u001b[0mn\u001b[0m\u001b[1;33m)\u001b[0m\u001b[1;33m)\u001b[0m\u001b[1;33m\u001b[0m\u001b[1;33m\u001b[0m\u001b[0m\n",
      "\u001b[1;32m~\\AppData\\Local\\Temp/ipykernel_2900/3942922730.py\u001b[0m in \u001b[0;36mreg_falsi\u001b[1;34m(f, x1, x2, tol, maxfpos)\u001b[0m\n\u001b[0;32m     16\u001b[0m         \u001b[0mprint\u001b[0m\u001b[1;33m(\u001b[0m\u001b[1;34m'No roots exists within the given interval'\u001b[0m\u001b[1;33m)\u001b[0m\u001b[1;33m\u001b[0m\u001b[1;33m\u001b[0m\u001b[0m\n\u001b[0;32m     17\u001b[0m \u001b[1;33m\u001b[0m\u001b[0m\n\u001b[1;32m---> 18\u001b[1;33m     \u001b[1;32mreturn\u001b[0m \u001b[0mxh\u001b[0m\u001b[1;33m,\u001b[0m \u001b[0mfpos\u001b[0m            \u001b[1;31m# return xh ,fpos to calling funtion.\u001b[0m\u001b[1;33m\u001b[0m\u001b[1;33m\u001b[0m\u001b[0m\n\u001b[0m\u001b[0;32m     19\u001b[0m \u001b[1;33m\u001b[0m\u001b[0m\n\u001b[0;32m     20\u001b[0m \u001b[0my\u001b[0m \u001b[1;33m=\u001b[0m \u001b[1;32mlambda\u001b[0m \u001b[0mx\u001b[0m\u001b[1;33m:\u001b[0m \u001b[1;36m2\u001b[0m\u001b[1;33m*\u001b[0m\u001b[0mx\u001b[0m\u001b[1;33m**\u001b[0m\u001b[1;36m2\u001b[0m\u001b[1;33m-\u001b[0m\u001b[1;36m5\u001b[0m\u001b[1;33m*\u001b[0m\u001b[0mx\u001b[0m\u001b[1;33m+\u001b[0m\u001b[1;36m3\u001b[0m      \u001b[1;31m# function whose root is to be cALCULATED.\u001b[0m\u001b[1;33m\u001b[0m\u001b[1;33m\u001b[0m\u001b[0m\n",
      "\u001b[1;31mUnboundLocalError\u001b[0m: local variable 'xh' referenced before assignment"
     ]
    }
   ],
   "source": [
    "from math import sin\n",
    "import numpy as np\n",
    "import matplotlib.pyplot as plt\n",
    "def reg_falsi(f,x1,x2,tol=1.0e-6,maxfpos=100):      # defining function reg_falsi with 5 parameters function, x1 (lower bound),x2 (upper bound),tolerance , maxfpos (iterations)   \n",
    "    \n",
    "    if f(x1) * f(x2)<0:           # (x1,x2) brackets the root so perform iterations by regula flasi method . \n",
    "        for fpos in range(1,maxfpos+1):      # no of iteration nby for loop.\n",
    "            xh = x2 - (x2-x1)/(f(x2)-f(x1)) * f(x2)     # formula of regula falsi method.\n",
    "            if abs(f(xh)) < tol:        # if root met stoppinfg criteria then stop executing loop \n",
    "                break\n",
    "            elif f(x1) * f(xh) < 0:     # otherwise decide for lower and upper bound to continue executing loop.\n",
    "                x2 = xh\n",
    "            else:\n",
    "                x1 = xh\n",
    "    else:                             # f(x1) * f(xh) > 0 then root given interval doesnot bracket root.\n",
    "        print('No roots exists within the given interval')\n",
    "        \n",
    "    return xh, fpos            # return xh ,fpos to calling funtion.\n",
    "\n",
    "y = lambda x: 2*x**2-5*x+3      # function whose root is to be cALCULATED.\n",
    "\n",
    "x1 = float(input('enter x1: '))               # initial guess (lower bound)\n",
    "x2 = float(input('enter x2: '))                # initial guess (upper bound)  \n",
    "\n",
    "r, n = reg_falsi(y,x1,x2)                  # calling the main function and assign y (which is defined) , (x1 and x2(enter by user) to x1 and x2 in main funtion to calculate root.f\n",
    "print('The root = %f at %d iteration'%(r,n))"
   ]
  },
  {
   "cell_type": "code",
   "execution_count": null,
   "id": "d146f368",
   "metadata": {},
   "outputs": [],
   "source": []
  }
 ],
 "metadata": {
  "kernelspec": {
   "display_name": "Python 3 (ipykernel)",
   "language": "python",
   "name": "python3"
  },
  "language_info": {
   "codemirror_mode": {
    "name": "ipython",
    "version": 3
   },
   "file_extension": ".py",
   "mimetype": "text/x-python",
   "name": "python",
   "nbconvert_exporter": "python",
   "pygments_lexer": "ipython3",
   "version": "3.9.7"
  }
 },
 "nbformat": 4,
 "nbformat_minor": 5
}
