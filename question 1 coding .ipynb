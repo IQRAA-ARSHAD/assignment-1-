{
 "cells": [
  {
   "cell_type": "markdown",
   "id": "8c6668d9",
   "metadata": {},
   "source": [
    "# bisection method"
   ]
  },
  {
   "cell_type": "code",
   "execution_count": 2,
   "id": "f32f1071",
   "metadata": {},
   "outputs": [
    {
     "name": "stdout",
     "output_type": "stream",
     "text": [
      "first guess: 2\n",
      "second guess: 3\n",
      "tolerance: 0.0001\n",
      "iteration 1, x2 = 2.500000 and f(x2)= -5.875000\n",
      "iteration 2, x2 = 2.750000 and f(x2)= -1.953125\n",
      "iteration 3, x2 = 2.875000 and f(x2)= 0.388672\n",
      "iteration 4, x2 = 2.812500 and f(x2)= -0.815186\n",
      "iteration 5, x2 = 2.843750 and f(x2)= -0.221588\n",
      "iteration 6, x2 = 2.859375 and f(x2)= 0.081448\n",
      "iteration 7, x2 = 2.851562 and f(x2)= -0.070592\n",
      "iteration 8, x2 = 2.855469 and f(x2)= 0.005297\n",
      "iteration 9, x2 = 2.853516 and f(x2)= -0.032680\n",
      "iteration 10, x2 = 2.854492 and f(x2)= -0.013700\n",
      "iteration 11, x2 = 2.854980 and f(x2)= -0.004204\n",
      "iteration 12, x2 = 2.855225 and f(x2)= 0.000546\n",
      "iteration 13, x2 = 2.855103 and f(x2)= -0.001829\n",
      "iteration 14, x2 = 2.855164 and f(x2)= -0.000641\n",
      "iteration 15, x2 = 2.855194 and f(x2)= -0.000048\n",
      "root is :2.85519409 \n"
     ]
    }
   ],
   "source": [
    "# guess1 = 2, guess2 = 3\n",
    "from math import sin\n",
    "import numpy as np\n",
    "import matplotlib.pyplot as plt\n",
    "def bisection(x0,x1,e):        # DEFINITION OF FUNCTION \"BISECTION\"\n",
    "    step = 1                   # NO OF ITERATION START FROM 1\n",
    "    condition = True    # condition is by default true so while loop will be executed.\n",
    "    while condition:\n",
    "        x2 = (x0+x1)/2         # FINDING MIDPOINT/ ROOT  .\n",
    "        print('iteration %d, x2 = %0.6f and f(x2)= %0.6f' %(step,x2,f(x2)))\n",
    "        \n",
    "        if f(x0) * f(x2) < 0:      #DECIDE THE LOWER AND UPPER BOUND TO CONTINUE THE STEP\n",
    "            x1 = x2\n",
    "        else:\n",
    "            x0 = x2\n",
    "        step = step +1            # INCREMENT THE NO OF ITERTAION BY 1\n",
    "        condition = abs(f(x2)) > e  # if abs value of root greater then stoping criteria \"e\" then continue step\n",
    "    print('root is :%0.8f '%x2)\n",
    "#    return x2\n",
    "\n",
    "def f(x):                      # \"def\" index for defining function (FUNCTION WHOSE ROOT IS TO BE CALCLUTED WITH A ERROR OF e)\n",
    "    return x**3-5*x-9\n",
    "\n",
    "x0 = float(input('first guess: '))               # LOWER BOUND OF INTERVAL WHOSE TYPE IS FLOAT IF INTEGER IT CONVERT ITS INTO FLOAT\n",
    "x1 = float(input('second guess: '))              # UPPER BOUND OF INTERVAL WHOSE TYPE IS FLOAT \n",
    "e  = float(input('tolerance: '))                 # DEFINING STOPING CRITERIA FOR THE PROGRAM WHICH IS EQUAL TO e\n",
    "\n",
    "if f(x0) * f(x1) > 0.0:\n",
    "    print('given guess values do not bracket the root') # IF \"IF\" CONDITION IS TRUE MEAN BOTH VALUES LOWER AND UPPER ARE EITHER POSITIVE OR NEGATIVE SO BY IMVT IT DOESNOT BRACKET ROOT so we needs another aproximate guess\n",
    "else:             # f(x0) * f(x1) < 0.0 then perform bisectio method.\n",
    "    root = bisection(x0,x1,e)    # CALLING FUNCTION BISECTION (WHERE DEFINTION OF BISECTION METHOD IS STORED) TO CALCULATE THE ROOT"
   ]
  },
  {
   "cell_type": "markdown",
   "id": "a72e2ba9",
   "metadata": {},
   "source": [
    "# graph "
   ]
  },
  {
   "cell_type": "code",
   "execution_count": 3,
   "id": "7aed8926",
   "metadata": {},
   "outputs": [
    {
     "data": {
      "text/plain": [
       "Text(0, 0.5, 'y_axis')"
      ]
     },
     "execution_count": 3,
     "metadata": {},
     "output_type": "execute_result"
    },
    {
     "data": {
      "image/png": "[encoded data removed]",
      "text/plain": [
       "<Figure size 432x288 with 1 Axes>"
      ]
     },
     "metadata": {
      "needs_background": "light"
     },
     "output_type": "display_data"
    }
   ],
   "source": [
    "x= np.linspace(2,3,100)\n",
    "y = x**3-5*x-9\n",
    "plt.plot(x,y)\n",
    "plt.grid()\n",
    "plt.xlabel('x_axis' ,fontsize =10)\n",
    "plt.ylabel('y_axis' ,fontsize =10)"
   ]
  },
  {
   "cell_type": "markdown",
   "id": "26e385bb",
   "metadata": {},
   "source": [
    "# NEWTON RAPHSON METHOD"
   ]
  },
  {
   "cell_type": "code",
   "execution_count": 5,
   "id": "3cc63ef4",
   "metadata": {},
   "outputs": [
    {
     "name": "stdout",
     "output_type": "stream",
     "text": [
      "the root is 2.855 at 3 iterations.\n"
     ]
    }
   ],
   "source": [
    "from math import sin\n",
    "import numpy as np\n",
    "import matplotlib.pyplot as plt\n",
    "def newton(fn,dfn,x,tol,maxiter):    # defining a function whose name is newton with parameters fn(function),dfn(derivate of fn),x(initial guess), tol(tolerance), maxiter (maximum number of iteration).\n",
    "    for i in range(maxiter):    # loop repeat upto the value of maxiter \n",
    "        xnew = x - fn(x)/dfn(x)   # equation of newton raphson method to find new root.\n",
    "        if abs(xnew-x)<tol:        #convegence condition is met then stop the loop (therwise continue ) \n",
    "            break\n",
    "        x = xnew      # root is xnew if \"if\" condition is met in iteration \"i\".\n",
    "    return xnew, i\n",
    "\n",
    "y = lambda x: x**3-5*x-9   # defining a function whose root is calculated\n",
    "dy = lambda x : 3*x**2-5       # derivative of function.\n",
    "\n",
    "x, n = newton(y, dy, 2.5, 0.0001, 100)    # calling definition of function where root is calculted by assign y to fn , dy to dfn , 5 to x , o.ooo1 to tol, 100 to maxiter.\n",
    "print('the root is %.3f at %d iterations.'%(x,n))"
   ]
  },
  {
   "cell_type": "markdown",
   "id": "b5de6eda",
   "metadata": {},
   "source": [
    "# false position method"
   ]
  },
  {
   "cell_type": "code",
   "execution_count": 6,
   "id": "ab58c0d4",
   "metadata": {},
   "outputs": [
    {
     "name": "stdout",
     "output_type": "stream",
     "text": [
      "enter x1: 2\n",
      "enter x2: 3\n",
      "The root = 2.855197 at 7 iteration\n"
     ]
    }
   ],
   "source": [
    "from math import sin\n",
    "import numpy as np\n",
    "import matplotlib.pyplot as plt\n",
    "def reg_falsi(f,x1,x2,tol=1.0e-6,maxfpos=100):      # defining function reg_falsi with 5 parameters function, x1 (lower bound),x2 (upper bound),tolerance , maxfpos (iterations)   \n",
    "    \n",
    "    if f(x1) * f(x2)<0:           # (x1,x2) brackets the root so perform iterations by regula flasi method . \n",
    "        for fpos in range(1,maxfpos+1):      # no of iteration nby for loop.\n",
    "            xh = x2 - (x2-x1)/(f(x2)-f(x1)) * f(x2)     # formula of regula falsi method.\n",
    "            if abs(f(xh)) < tol:        # if root met stoppinfg criteria then stop executing loop \n",
    "                break\n",
    "            elif f(x1) * f(xh) < 0:     # otherwise decide for lower and upper bound to continue executing loop.\n",
    "                x2 = xh\n",
    "            else:\n",
    "                x1 = xh\n",
    "    else:                             # f(x1) * f(xh) > 0 then root given interval doesnot bracket root.\n",
    "        print('No roots exists within the given interval')\n",
    "        \n",
    "    return xh, fpos            # return xh ,fpos to calling funtion.\n",
    "\n",
    "y = lambda x:  x**3-5*x-9     # function whose root is to be cALCULATED.\n",
    "\n",
    "x1 = float(input('enter x1: '))               # initial guess (lower bound)\n",
    "x2 = float(input('enter x2: '))                # initial guess (upper bound)  \n",
    "\n",
    "r, n = reg_falsi(y,x1,x2)                  # calling the main function and assign y (which is defined) , (x1 and x2(enter by user) to x1 and x2 in main funtion to calculate root.f\n",
    "print('The root = %f at %d iteration'%(r,n))"
   ]
  },
  {
   "cell_type": "markdown",
   "id": "555abfa2",
   "metadata": {},
   "source": [
    "# secant method"
   ]
  },
  {
   "cell_type": "code",
   "execution_count": 7,
   "id": "880455dc",
   "metadata": {},
   "outputs": [
    {
     "name": "stdout",
     "output_type": "stream",
     "text": [
      "enter x1: 2\n",
      "enter x2: 3\n",
      "Root = 2.855197 at 4 iterations\n"
     ]
    }
   ],
   "source": [
    "from math import sin\n",
    "import numpy as np\n",
    "import matplotlib.pyplot as plt\n",
    "def secant(fn,x1,x2,tol,maxiter):   # defining function secant with 5 parameters function, x1 (lower bound),x2 (upper bound),tolerance , maxiter (iterations)   \n",
    "    for i in range(maxiter):      # loop repeat upto the value of maxiter \n",
    "        xnew  = x2 - (x2-x1)/(fn(x2)-fn(x1))*fn(x2)    # equation of secant method to find new root.\n",
    "        if abs(xnew-x2) < tol:        #convegence condition is met then stop the loop (therwise continue ) \n",
    "            break\n",
    "        else:              # abs(xnew-x2) > tol: then replace x1 with x2 and x2 with xnew to perform next iteration.\n",
    "            x1 = x2\n",
    "            x2 = xnew\n",
    "    else:\n",
    "        print('warning: Maximum number of iterations is reached')\n",
    "    return xnew, i\n",
    "\n",
    "f = lambda x:  x**3-5*x-9        # defining function whozse root is to be calculated.\n",
    "\n",
    "x1 = float(input('enter x1: '))     #  1st initial guess \n",
    "x2 = float(input('enter x2: '))     # 2nd initial guess\n",
    "\n",
    "r, n = secant(f,x1,x2,1.0e-6,100)    # calling the main function and assign given values to main function ehere its calculate root by secant method.\n",
    "\n",
    "print('Root = %f at %d iterations'%(r,n))"
   ]
  },
  {
   "cell_type": "code",
   "execution_count": null,
   "id": "e34880a0",
   "metadata": {},
   "outputs": [],
   "source": []
  }
 ],
 "metadata": {
  "kernelspec": {
   "display_name": "Python 3 (ipykernel)",
   "language": "python",
   "name": "python3"
  },
  "language_info": {
   "codemirror_mode": {
    "name": "ipython",
    "version": 3
   },
   "file_extension": ".py",
   "mimetype": "text/x-python",
   "name": "python",
   "nbconvert_exporter": "python",
   "pygments_lexer": "ipython3",
   "version": "3.9.7"
  }
 },
 "nbformat": 4,
 "nbformat_minor": 5
}
